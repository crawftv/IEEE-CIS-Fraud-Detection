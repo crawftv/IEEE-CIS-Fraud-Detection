{
 "cells": [
  {
   "cell_type": "code",
   "execution_count": 1,
   "metadata": {},
   "outputs": [],
   "source": [
    "#!pipenv install pandas numpy scikit-learn --dev"
   ]
  },
  {
   "cell_type": "code",
   "execution_count": 2,
   "metadata": {},
   "outputs": [],
   "source": [
    "import vaex"
   ]
  },
  {
   "cell_type": "code",
   "execution_count": 3,
   "metadata": {},
   "outputs": [],
   "source": [
    "#!wget https://raw.githubusercontent.com/crawftv/DS-Unit-2-Sprint-4-Model-Validation/master/module-3-select-models-and-parameters/FremontBridge.csv"
   ]
  },
  {
   "cell_type": "code",
   "execution_count": 4,
   "metadata": {},
   "outputs": [],
   "source": [
    "#!wget https://raw.githubusercontent.com/crawftv/DS-Unit-2-Sprint-4-Model-Validation/master/module-3-select-models-and-parameters/BicycleWeather.csv"
   ]
  },
  {
   "cell_type": "code",
   "execution_count": 5,
   "metadata": {},
   "outputs": [],
   "source": [
    "fb = vaex.read_csv_and_convert(\"FremontBridge.csv\")\n",
    "bw = vaex.read_csv_and_convert(\"BicycleWeather.csv\")"
   ]
  },
  {
   "cell_type": "code",
   "execution_count": 6,
   "metadata": {},
   "outputs": [
    {
     "data": {
      "text/html": [
       "<table>\n",
       "<thead>\n",
       "<tr><th>#                            </th><th>Date                  </th><th style=\"text-align: right;\">  Fremont Bridge East Sidewalk</th><th style=\"text-align: right;\">  Fremont Bridge West Sidewalk</th><th style=\"text-align: right;\">  index</th></tr>\n",
       "</thead>\n",
       "<tbody>\n",
       "<tr><td><i style='opacity: 0.6'>0</i></td><td>12/31/2018 11:00:00 PM</td><td style=\"text-align: right;\">                             7</td><td style=\"text-align: right;\">                             6</td><td style=\"text-align: right;\">      0</td></tr>\n",
       "<tr><td><i style='opacity: 0.6'>1</i></td><td>12/31/2018 10:00:00 PM</td><td style=\"text-align: right;\">                             3</td><td style=\"text-align: right;\">                             4</td><td style=\"text-align: right;\">      1</td></tr>\n",
       "<tr><td><i style='opacity: 0.6'>2</i></td><td>12/31/2018 09:00:00 PM</td><td style=\"text-align: right;\">                             7</td><td style=\"text-align: right;\">                             7</td><td style=\"text-align: right;\">      2</td></tr>\n",
       "<tr><td><i style='opacity: 0.6'>3</i></td><td>12/31/2018 08:00:00 PM</td><td style=\"text-align: right;\">                            12</td><td style=\"text-align: right;\">                            14</td><td style=\"text-align: right;\">      3</td></tr>\n",
       "<tr><td><i style='opacity: 0.6'>4</i></td><td>12/31/2018 07:00:00 PM</td><td style=\"text-align: right;\">                             9</td><td style=\"text-align: right;\">                             5</td><td style=\"text-align: right;\">      4</td></tr>\n",
       "</tbody>\n",
       "</table>"
      ],
      "text/plain": [
       "  #  Date                      Fremont Bridge East Sidewalk    Fremont Bridge West Sidewalk    index\n",
       "  0  12/31/2018 11:00:00 PM                               7                               6        0\n",
       "  1  12/31/2018 10:00:00 PM                               3                               4        1\n",
       "  2  12/31/2018 09:00:00 PM                               7                               7        2\n",
       "  3  12/31/2018 08:00:00 PM                              12                              14        3\n",
       "  4  12/31/2018 07:00:00 PM                               9                               5        4"
      ]
     },
     "execution_count": 6,
     "metadata": {},
     "output_type": "execute_result"
    }
   ],
   "source": [
    "fb.head(5)"
   ]
  },
  {
   "cell_type": "code",
   "execution_count": 8,
   "metadata": {},
   "outputs": [],
   "source": [
    "fb = vaex.open(\"FremontBridge.csv.hdf5\")\n",
    "bw = vaex.open(\"BicycleWeather.csv.hdf5\")"
   ]
  },
  {
   "cell_type": "code",
   "execution_count": 16,
   "metadata": {},
   "outputs": [
    {
     "data": {
      "text/plain": [
       "Expression = Date\n",
       "Length: 54,744 dtype: str (column)\n",
       "----------------------------------\n",
       "    0  12/31/2018 11:00:00 PM\n",
       "    1  12/31/2018 10:00:00 PM\n",
       "    2  12/31/2018 09:00:00 PM\n",
       "    3  12/31/2018 08:00:00 PM\n",
       "    4  12/31/2018 07:00:00 PM\n",
       "             ...             \n",
       "54739  10/03/2012 04:00:00 AM\n",
       "54740  10/03/2012 03:00:00 AM\n",
       "54741  10/03/2012 02:00:00 AM\n",
       "54742  10/03/2012 01:00:00 AM\n",
       "54743  10/03/2012 12:00:00 AM"
      ]
     },
     "execution_count": 16,
     "metadata": {},
     "output_type": "execute_result"
    }
   ],
   "source": [
    "fb.Date"
   ]
  },
  {
   "cell_type": "code",
   "execution_count": 10,
   "metadata": {},
   "outputs": [],
   "source": [
    "bw.add_virtual_column(\"str_date\", bw.DATE.apply(str))"
   ]
  },
  {
   "cell_type": "code",
   "execution_count": 11,
   "metadata": {},
   "outputs": [],
   "source": [
    "def parse_date(s):\n",
    "    return s[0:4]+\"-\"+s[4:6]+\"-\"+s[6:]\n",
    "bw.add_virtual_column(\"date\",bw.str_date.apply(parse_date))"
   ]
  },
  {
   "cell_type": "code",
   "execution_count": 14,
   "metadata": {},
   "outputs": [
    {
     "data": {
      "text/html": [
       "<table>\n",
       "<thead>\n",
       "<tr><th>#                                </th><th>STATION          </th><th>STATION_NAME                              </th><th>DATE    </th><th>PRCP  </th><th>SNWD  </th><th>SNOW  </th><th>TMAX  </th><th>TMIN  </th><th>AWND  </th><th>WDF2  </th><th>WDF5  </th><th>WSF2  </th><th>WSF5  </th><th>FMTM  </th><th>WT14  </th><th>WT01  </th><th>WT17  </th><th>WT05  </th><th>WT02  </th><th>WT22  </th><th>WT04  </th><th>WT13  </th><th>WT16  </th><th>WT08  </th><th>WT18  </th><th>WT03  </th><th>index  </th><th>str_date  </th><th>date      </th></tr>\n",
       "</thead>\n",
       "<tbody>\n",
       "<tr><td><i style='opacity: 0.6'>0</i>    </td><td>GHCND:USW00024233</td><td>SEATTLE TACOMA INTERNATIONAL AIRPORT WA US</td><td>20120101</td><td>0     </td><td>0     </td><td>0     </td><td>128   </td><td>50    </td><td>47    </td><td>100   </td><td>90    </td><td>89    </td><td>112   </td><td>-9999 </td><td>1     </td><td>-9999 </td><td>-9999 </td><td>-9999 </td><td>-9999 </td><td>-9999 </td><td>-9999 </td><td>-9999 </td><td>-9999 </td><td>-9999 </td><td>-9999 </td><td>-9999 </td><td>0      </td><td>20120101  </td><td>2012-01-01</td></tr>\n",
       "<tr><td><i style='opacity: 0.6'>1</i>    </td><td>GHCND:USW00024233</td><td>SEATTLE TACOMA INTERNATIONAL AIRPORT WA US</td><td>20120102</td><td>109   </td><td>0     </td><td>0     </td><td>106   </td><td>28    </td><td>45    </td><td>180   </td><td>200   </td><td>130   </td><td>179   </td><td>-9999 </td><td>-9999 </td><td>1     </td><td>-9999 </td><td>-9999 </td><td>-9999 </td><td>-9999 </td><td>-9999 </td><td>1     </td><td>1     </td><td>-9999 </td><td>-9999 </td><td>-9999 </td><td>1      </td><td>20120102  </td><td>2012-01-02</td></tr>\n",
       "<tr><td><i style='opacity: 0.6'>2</i>    </td><td>GHCND:USW00024233</td><td>SEATTLE TACOMA INTERNATIONAL AIRPORT WA US</td><td>20120103</td><td>8     </td><td>0     </td><td>0     </td><td>117   </td><td>72    </td><td>23    </td><td>180   </td><td>170   </td><td>54    </td><td>67    </td><td>-9999 </td><td>-9999 </td><td>-9999 </td><td>-9999 </td><td>-9999 </td><td>-9999 </td><td>-9999 </td><td>-9999 </td><td>-9999 </td><td>1     </td><td>-9999 </td><td>-9999 </td><td>-9999 </td><td>2      </td><td>20120103  </td><td>2012-01-03</td></tr>\n",
       "<tr><td><i style='opacity: 0.6'>3</i>    </td><td>GHCND:USW00024233</td><td>SEATTLE TACOMA INTERNATIONAL AIRPORT WA US</td><td>20120104</td><td>203   </td><td>0     </td><td>0     </td><td>122   </td><td>56    </td><td>47    </td><td>180   </td><td>190   </td><td>107   </td><td>148   </td><td>-9999 </td><td>-9999 </td><td>1     </td><td>-9999 </td><td>-9999 </td><td>-9999 </td><td>-9999 </td><td>-9999 </td><td>1     </td><td>1     </td><td>-9999 </td><td>-9999 </td><td>-9999 </td><td>3      </td><td>20120104  </td><td>2012-01-04</td></tr>\n",
       "<tr><td><i style='opacity: 0.6'>4</i>    </td><td>GHCND:USW00024233</td><td>SEATTLE TACOMA INTERNATIONAL AIRPORT WA US</td><td>20120105</td><td>13    </td><td>0     </td><td>0     </td><td>89    </td><td>28    </td><td>61    </td><td>200   </td><td>220   </td><td>107   </td><td>165   </td><td>-9999 </td><td>-9999 </td><td>1     </td><td>-9999 </td><td>-9999 </td><td>-9999 </td><td>-9999 </td><td>-9999 </td><td>-9999 </td><td>1     </td><td>-9999 </td><td>-9999 </td><td>-9999 </td><td>4      </td><td>20120105  </td><td>2012-01-05</td></tr>\n",
       "<tr><td>...                              </td><td>...              </td><td>...                                       </td><td>...     </td><td>...   </td><td>...   </td><td>...   </td><td>...   </td><td>...   </td><td>...   </td><td>...   </td><td>...   </td><td>...   </td><td>...   </td><td>...   </td><td>...   </td><td>...   </td><td>...   </td><td>...   </td><td>...   </td><td>...   </td><td>...   </td><td>...   </td><td>...   </td><td>...   </td><td>...   </td><td>...   </td><td>...    </td><td>...       </td><td>...       </td></tr>\n",
       "<tr><td><i style='opacity: 0.6'>1,335</i></td><td>GHCND:USW00024233</td><td>SEATTLE TACOMA INTERNATIONAL AIRPORT WA US</td><td>20150828</td><td>5     </td><td>0     </td><td>0     </td><td>233   </td><td>156   </td><td>26    </td><td>230   </td><td>240   </td><td>81    </td><td>103   </td><td>-9999 </td><td>-9999 </td><td>1     </td><td>-9999 </td><td>-9999 </td><td>-9999 </td><td>-9999 </td><td>-9999 </td><td>-9999 </td><td>-9999 </td><td>-9999 </td><td>-9999 </td><td>-9999 </td><td>1335   </td><td>20150828  </td><td>2015-08-28</td></tr>\n",
       "<tr><td><i style='opacity: 0.6'>1,336</i></td><td>GHCND:USW00024233</td><td>SEATTLE TACOMA INTERNATIONAL AIRPORT WA US</td><td>20150829</td><td>325   </td><td>0     </td><td>0     </td><td>222   </td><td>133   </td><td>58    </td><td>210   </td><td>210   </td><td>157   </td><td>206   </td><td>-9999 </td><td>-9999 </td><td>1     </td><td>-9999 </td><td>-9999 </td><td>-9999 </td><td>-9999 </td><td>-9999 </td><td>-9999 </td><td>-9999 </td><td>-9999 </td><td>-9999 </td><td>-9999 </td><td>1336   </td><td>20150829  </td><td>2015-08-29</td></tr>\n",
       "<tr><td><i style='opacity: 0.6'>1,337</i></td><td>GHCND:USW00024233</td><td>SEATTLE TACOMA INTERNATIONAL AIRPORT WA US</td><td>20150830</td><td>102   </td><td>0     </td><td>0     </td><td>200   </td><td>128   </td><td>47    </td><td>200   </td><td>200   </td><td>89    </td><td>112   </td><td>-9999 </td><td>-9999 </td><td>1     </td><td>-9999 </td><td>-9999 </td><td>-9999 </td><td>-9999 </td><td>-9999 </td><td>-9999 </td><td>-9999 </td><td>-9999 </td><td>-9999 </td><td>-9999 </td><td>1337   </td><td>20150830  </td><td>2015-08-30</td></tr>\n",
       "<tr><td><i style='opacity: 0.6'>1,338</i></td><td>GHCND:USW00024233</td><td>SEATTLE TACOMA INTERNATIONAL AIRPORT WA US</td><td>20150831</td><td>0     </td><td>0     </td><td>0     </td><td>189   </td><td>161   </td><td>58    </td><td>210   </td><td>210   </td><td>112   </td><td>134   </td><td>-9999 </td><td>-9999 </td><td>-9999 </td><td>-9999 </td><td>-9999 </td><td>-9999 </td><td>-9999 </td><td>-9999 </td><td>-9999 </td><td>-9999 </td><td>-9999 </td><td>-9999 </td><td>-9999 </td><td>1338   </td><td>20150831  </td><td>2015-08-31</td></tr>\n",
       "<tr><td><i style='opacity: 0.6'>1,339</i></td><td>GHCND:USW00024233</td><td>SEATTLE TACOMA INTERNATIONAL AIRPORT WA US</td><td>20150901</td><td>58    </td><td>0     </td><td>0     </td><td>194   </td><td>139   </td><td>-9999 </td><td>-9999 </td><td>-9999 </td><td>-9999 </td><td>-9999 </td><td>-9999 </td><td>-9999 </td><td>-9999 </td><td>-9999 </td><td>-9999 </td><td>-9999 </td><td>-9999 </td><td>-9999 </td><td>-9999 </td><td>-9999 </td><td>-9999 </td><td>-9999 </td><td>-9999 </td><td>1339   </td><td>20150901  </td><td>2015-09-01</td></tr>\n",
       "</tbody>\n",
       "</table>"
      ],
      "text/plain": [
       "#      STATION            STATION_NAME                                DATE      PRCP    SNWD    SNOW    TMAX    TMIN    AWND    WDF2    WDF5    WSF2    WSF5    FMTM    WT14    WT01    WT17    WT05    WT02    WT22    WT04    WT13    WT16    WT08    WT18    WT03    index    str_date    date\n",
       "0      GHCND:USW00024233  SEATTLE TACOMA INTERNATIONAL AIRPORT WA US  20120101  0       0       0       128     50      47      100     90      89      112     -9999   1       -9999   -9999   -9999   -9999   -9999   -9999   -9999   -9999   -9999   -9999   -9999   0        20120101    2012-01-01\n",
       "1      GHCND:USW00024233  SEATTLE TACOMA INTERNATIONAL AIRPORT WA US  20120102  109     0       0       106     28      45      180     200     130     179     -9999   -9999   1       -9999   -9999   -9999   -9999   -9999   1       1       -9999   -9999   -9999   1        20120102    2012-01-02\n",
       "2      GHCND:USW00024233  SEATTLE TACOMA INTERNATIONAL AIRPORT WA US  20120103  8       0       0       117     72      23      180     170     54      67      -9999   -9999   -9999   -9999   -9999   -9999   -9999   -9999   -9999   1       -9999   -9999   -9999   2        20120103    2012-01-03\n",
       "3      GHCND:USW00024233  SEATTLE TACOMA INTERNATIONAL AIRPORT WA US  20120104  203     0       0       122     56      47      180     190     107     148     -9999   -9999   1       -9999   -9999   -9999   -9999   -9999   1       1       -9999   -9999   -9999   3        20120104    2012-01-04\n",
       "4      GHCND:USW00024233  SEATTLE TACOMA INTERNATIONAL AIRPORT WA US  20120105  13      0       0       89      28      61      200     220     107     165     -9999   -9999   1       -9999   -9999   -9999   -9999   -9999   -9999   1       -9999   -9999   -9999   4        20120105    2012-01-05\n",
       "...    ...                ...                                         ...       ...     ...     ...     ...     ...     ...     ...     ...     ...     ...     ...     ...     ...     ...     ...     ...     ...     ...     ...     ...     ...     ...     ...     ...      ...         ...\n",
       "1,335  GHCND:USW00024233  SEATTLE TACOMA INTERNATIONAL AIRPORT WA US  20150828  5       0       0       233     156     26      230     240     81      103     -9999   -9999   1       -9999   -9999   -9999   -9999   -9999   -9999   -9999   -9999   -9999   -9999   1335     20150828    2015-08-28\n",
       "1,336  GHCND:USW00024233  SEATTLE TACOMA INTERNATIONAL AIRPORT WA US  20150829  325     0       0       222     133     58      210     210     157     206     -9999   -9999   1       -9999   -9999   -9999   -9999   -9999   -9999   -9999   -9999   -9999   -9999   1336     20150829    2015-08-29\n",
       "1,337  GHCND:USW00024233  SEATTLE TACOMA INTERNATIONAL AIRPORT WA US  20150830  102     0       0       200     128     47      200     200     89      112     -9999   -9999   1       -9999   -9999   -9999   -9999   -9999   -9999   -9999   -9999   -9999   -9999   1337     20150830    2015-08-30\n",
       "1,338  GHCND:USW00024233  SEATTLE TACOMA INTERNATIONAL AIRPORT WA US  20150831  0       0       0       189     161     58      210     210     112     134     -9999   -9999   -9999   -9999   -9999   -9999   -9999   -9999   -9999   -9999   -9999   -9999   -9999   1338     20150831    2015-08-31\n",
       "1,339  GHCND:USW00024233  SEATTLE TACOMA INTERNATIONAL AIRPORT WA US  20150901  58      0       0       194     139     -9999   -9999   -9999   -9999   -9999   -9999   -9999   -9999   -9999   -9999   -9999   -9999   -9999   -9999   -9999   -9999   -9999   -9999   1339     20150901    2015-09-01"
      ]
     },
     "execution_count": 14,
     "metadata": {},
     "output_type": "execute_result"
    }
   ],
   "source": [
    "bw"
   ]
  },
  {
   "cell_type": "code",
   "execution_count": 15,
   "metadata": {},
   "outputs": [
    {
     "ename": "AttributeError",
     "evalue": "'Hdf5MemoryMapped' object has no attribute 'isna'",
     "output_type": "error",
     "traceback": [
      "\u001b[0;31m---------------------------------------------------------------------------\u001b[0m",
      "\u001b[0;31mAttributeError\u001b[0m                            Traceback (most recent call last)",
      "\u001b[0;32m<ipython-input-15-edff3b4f9a6d>\u001b[0m in \u001b[0;36m<module>\u001b[0;34m\u001b[0m\n\u001b[0;32m----> 1\u001b[0;31m \u001b[0mbw\u001b[0m\u001b[0;34m.\u001b[0m\u001b[0misna\u001b[0m\u001b[0;34m(\u001b[0m\u001b[0;34m)\u001b[0m\u001b[0;34m\u001b[0m\u001b[0;34m\u001b[0m\u001b[0m\n\u001b[0m",
      "\u001b[0;32m~/.local/share/virtualenvs/Data-Science-Template-2DMwyQ7F/lib/python3.6/site-packages/vaex/dataframe.py\u001b[0m in \u001b[0;36m__getattr__\u001b[0;34m(self, name)\u001b[0m\n\u001b[1;32m    211\u001b[0m             \u001b[0;32mreturn\u001b[0m \u001b[0mself\u001b[0m\u001b[0;34m.\u001b[0m\u001b[0m__hidden__\u001b[0m\u001b[0;34m[\u001b[0m\u001b[0mname\u001b[0m\u001b[0;34m]\u001b[0m\u001b[0;34m.\u001b[0m\u001b[0m__get__\u001b[0m\u001b[0;34m(\u001b[0m\u001b[0mself\u001b[0m\u001b[0;34m)\u001b[0m\u001b[0;34m\u001b[0m\u001b[0;34m\u001b[0m\u001b[0m\n\u001b[1;32m    212\u001b[0m         \u001b[0;32melse\u001b[0m\u001b[0;34m:\u001b[0m\u001b[0;34m\u001b[0m\u001b[0;34m\u001b[0m\u001b[0m\n\u001b[0;32m--> 213\u001b[0;31m             \u001b[0;32mreturn\u001b[0m \u001b[0mobject\u001b[0m\u001b[0;34m.\u001b[0m\u001b[0m__getattribute__\u001b[0m\u001b[0;34m(\u001b[0m\u001b[0mself\u001b[0m\u001b[0;34m,\u001b[0m \u001b[0mname\u001b[0m\u001b[0;34m)\u001b[0m\u001b[0;34m\u001b[0m\u001b[0;34m\u001b[0m\u001b[0m\n\u001b[0m\u001b[1;32m    214\u001b[0m \u001b[0;34m\u001b[0m\u001b[0m\n\u001b[1;32m    215\u001b[0m     \u001b[0;34m@\u001b[0m\u001b[0mproperty\u001b[0m\u001b[0;34m\u001b[0m\u001b[0;34m\u001b[0m\u001b[0m\n",
      "\u001b[0;31mAttributeError\u001b[0m: 'Hdf5MemoryMapped' object has no attribute 'isna'"
     ]
    }
   ],
   "source": []
  },
  {
   "cell_type": "code",
   "execution_count": null,
   "metadata": {},
   "outputs": [],
   "source": []
  }
 ],
 "metadata": {
  "kernelspec": {
   "display_name": "Python 3",
   "language": "python",
   "name": "python3"
  },
  "language_info": {
   "codemirror_mode": {
    "name": "ipython",
    "version": 3
   },
   "file_extension": ".py",
   "mimetype": "text/x-python",
   "name": "python",
   "nbconvert_exporter": "python",
   "pygments_lexer": "ipython3",
   "version": "3.6.7"
  }
 },
 "nbformat": 4,
 "nbformat_minor": 2
}
